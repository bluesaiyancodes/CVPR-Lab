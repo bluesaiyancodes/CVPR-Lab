{
 "cells": [
  {
   "cell_type": "code",
   "execution_count": 1,
   "id": "40c88551",
   "metadata": {},
   "outputs": [
    {
     "ename": "SystemExit",
     "evalue": "0",
     "output_type": "error",
     "traceback": [
      "An exception has occurred, use %tb to see the full traceback.\n",
      "\u001b[1;31mSystemExit\u001b[0m\u001b[1;31m:\u001b[0m 0\n"
     ]
    },
    {
     "name": "stderr",
     "output_type": "stream",
     "text": [
      "C:\\Users\\cvpr\\anaconda3\\envs\\tf-gpu\\lib\\site-packages\\IPython\\core\\interactiveshell.py:3406: UserWarning: To exit: use 'exit', 'quit', or Ctrl-D.\n",
      "  warn(\"To exit: use 'exit', 'quit', or Ctrl-D.\", stacklevel=1)\n"
     ]
    }
   ],
   "source": [
    "import sys\n",
    "from PyQt5.QtWidgets import QApplication, QWidget, QLabel\n",
    "from PyQt5.QtGui import QIcon\n",
    "from PyQt5.QtCore import pyqtSlot\n",
    "\n",
    "def window():\n",
    "   app = QApplication(sys.argv)\n",
    "   widget = QWidget()\n",
    "\n",
    "   textLabel = QLabel(widget)\n",
    "   textLabel.setText(\"Hello World!\")\n",
    "   textLabel.move(110,85)\n",
    "\n",
    "   widget.setGeometry(50,50,320,200)\n",
    "   widget.setWindowTitle(\"PyQt5 Example\")\n",
    "   widget.show()\n",
    "   sys.exit(app.exec_())\n",
    "\n",
    "if __name__ == '__main__':\n",
    "   window()"
   ]
  },
  {
   "cell_type": "code",
   "execution_count": null,
   "id": "84066c49",
   "metadata": {},
   "outputs": [],
   "source": []
  }
 ],
 "metadata": {
  "kernelspec": {
   "display_name": "Python 3 (ipykernel)",
   "language": "python",
   "name": "python3"
  },
  "language_info": {
   "codemirror_mode": {
    "name": "ipython",
    "version": 3
   },
   "file_extension": ".py",
   "mimetype": "text/x-python",
   "name": "python",
   "nbconvert_exporter": "python",
   "pygments_lexer": "ipython3",
   "version": "3.9.12"
  }
 },
 "nbformat": 4,
 "nbformat_minor": 5
}
